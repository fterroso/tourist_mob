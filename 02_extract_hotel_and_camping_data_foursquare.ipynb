{
 "cells": [
  {
   "cell_type": "code",
   "execution_count": 1,
   "id": "ff443cf3",
   "metadata": {},
   "outputs": [],
   "source": [
    "import pandas as pd\n",
    "import foursquare\n",
    "import math\n",
    "#from foursquare_labeling.place_labelling import FoursquareHandler\n",
    "import foursquare as fs \n",
    "\n",
    "import geopandas as gpd\n",
    "\n",
    "from tqdm import tqdm_notebook\n",
    "\n",
    "\n",
    "import os\n",
    "from datetime import datetime\n",
    "import pickle\n",
    "import time"
   ]
  },
  {
   "cell_type": "code",
   "execution_count": 2,
   "id": "4ab1fd9e",
   "metadata": {},
   "outputs": [],
   "source": [
    "FOURSQUARE_API_CLIENT_ID='PGK4HA0FSSWA0RXOXEOPC4RETYNFSRCP3BSEVZOQVZGUZWCJ'\n",
    "FOURSQUARE_API_CLIENT_SECRET='HJ4IHWYAZQXFAZQNVJ0HISMWD4T0OEEPUHLUJ35BGXS05VME'"
   ]
  },
  {
   "cell_type": "code",
   "execution_count": 3,
   "id": "82f6763e",
   "metadata": {},
   "outputs": [
    {
     "name": "stderr",
     "output_type": "stream",
     "text": [
      "C:\\Users\\ucam\\anaconda3\\envs\\geo_env\\lib\\site-packages\\pyproj\\crs\\crs.py:53: FutureWarning: '+init=<authority>:<code>' syntax is deprecated. '<authority>:<code>' is the preferred initialization method. When making the change, be mindful of axis order changes: https://pyproj4.github.io/pyproj/stable/gotchas.html#axis-order-changes-in-proj-6\n",
      "  return _prepare_from_string(\" \".join(pjargs))\n"
     ]
    },
    {
     "data": {
      "text/html": [
       "<div>\n",
       "<style scoped>\n",
       "    .dataframe tbody tr th:only-of-type {\n",
       "        vertical-align: middle;\n",
       "    }\n",
       "\n",
       "    .dataframe tbody tr th {\n",
       "        vertical-align: top;\n",
       "    }\n",
       "\n",
       "    .dataframe thead th {\n",
       "        text-align: right;\n",
       "    }\n",
       "</style>\n",
       "<table border=\"1\" class=\"dataframe\">\n",
       "  <thead>\n",
       "    <tr style=\"text-align: right;\">\n",
       "      <th></th>\n",
       "      <th>NATCODE</th>\n",
       "      <th>NAMEUNIT</th>\n",
       "      <th>CODEUNIT</th>\n",
       "      <th>geometry</th>\n",
       "    </tr>\n",
       "  </thead>\n",
       "  <tbody>\n",
       "    <tr>\n",
       "      <th>0</th>\n",
       "      <td>34104600000</td>\n",
       "      <td>València/Valencia</td>\n",
       "      <td>46</td>\n",
       "      <td>MULTIPOLYGON (((653037.661 4429500.236, 652229...</td>\n",
       "    </tr>\n",
       "    <tr>\n",
       "      <th>1</th>\n",
       "      <td>34084500000</td>\n",
       "      <td>Toledo</td>\n",
       "      <td>45</td>\n",
       "      <td>POLYGON ((294238.465 4416957.428, 294235.467 4...</td>\n",
       "    </tr>\n",
       "    <tr>\n",
       "      <th>2</th>\n",
       "      <td>34024400000</td>\n",
       "      <td>Teruel</td>\n",
       "      <td>44</td>\n",
       "      <td>POLYGON ((765333.011 4512252.351, 764732.031 4...</td>\n",
       "    </tr>\n",
       "    <tr>\n",
       "      <th>3</th>\n",
       "      <td>34094300000</td>\n",
       "      <td>Tarragona</td>\n",
       "      <td>43</td>\n",
       "      <td>MULTIPOLYGON (((813560.435 4504876.753, 813537...</td>\n",
       "    </tr>\n",
       "    <tr>\n",
       "      <th>4</th>\n",
       "      <td>34074200000</td>\n",
       "      <td>Soria</td>\n",
       "      <td>42</td>\n",
       "      <td>POLYGON ((583890.589 4603311.305, 583939.589 4...</td>\n",
       "    </tr>\n",
       "  </tbody>\n",
       "</table>\n",
       "</div>"
      ],
      "text/plain": [
       "       NATCODE           NAMEUNIT CODEUNIT  \\\n",
       "0  34104600000  València/Valencia       46   \n",
       "1  34084500000             Toledo       45   \n",
       "2  34024400000             Teruel       44   \n",
       "3  34094300000          Tarragona       43   \n",
       "4  34074200000              Soria       42   \n",
       "\n",
       "                                            geometry  \n",
       "0  MULTIPOLYGON (((653037.661 4429500.236, 652229...  \n",
       "1  POLYGON ((294238.465 4416957.428, 294235.467 4...  \n",
       "2  POLYGON ((765333.011 4512252.351, 764732.031 4...  \n",
       "3  MULTIPOLYGON (((813560.435 4504876.753, 813537...  \n",
       "4  POLYGON ((583890.589 4603311.305, 583939.589 4...  "
      ]
     },
     "execution_count": 3,
     "metadata": {},
     "output_type": "execute_result"
    }
   ],
   "source": [
    "province_gdf = gpd.read_file(os.path.join('data', 'provinces_with_code.geojson'), encoding='utf-8').to_crs({'init': 'epsg:25830'})\n",
    "province_gdf.head()"
   ]
  },
  {
   "cell_type": "code",
   "execution_count": 4,
   "id": "28942566",
   "metadata": {},
   "outputs": [
    {
     "data": {
      "image/png": "[encoded data removed]",
      "text/plain": [
       "<Figure size 432x288 with 1 Axes>"
      ]
     },
     "metadata": {
      "needs_background": "light"
     },
     "output_type": "display_data"
    }
   ],
   "source": [
    "province_gdf.plot();"
   ]
  },
  {
   "cell_type": "code",
   "execution_count": 5,
   "id": "8d526bc4",
   "metadata": {},
   "outputs": [],
   "source": [
    "def get_new_point(lat, lon, d, brng):\n",
    "    R = 6378.1 #Radius of the Earth\n",
    "    #brng = 3.1415 #1.57 #Bearing is 90 degrees converted to radians.\n",
    "    #d = 15 #Distance in km\n",
    "\n",
    "    #lat1 = math.radians(52.20472) #Current lat point converted to radians\n",
    "    #lon1 = math.radians(0.14056) #Current long point converted to radians\n",
    "    \n",
    "    lat1 = math.radians(lat) #Current lat point converted to radians\n",
    "    lon1 = math.radians(lon) #Current long point converted to radians\n",
    "\n",
    "    lat2 = math.asin( math.sin(lat1)*math.cos(d/R) +\n",
    "         math.cos(lat1)*math.sin(d/R)*math.cos(brng))\n",
    "\n",
    "    lon2 = lon1 + math.atan2(math.sin(brng)*math.sin(d/R)*math.cos(lat1),\n",
    "                 math.cos(d/R)-math.sin(lat1)*math.sin(lat2))\n",
    "\n",
    "    lat2 = math.degrees(lat2)\n",
    "    lon2 = math.degrees(lon2)\n",
    "\n",
    "    #print(lat2)\n",
    "    #print(lon2)\n",
    "    return lat2,lon2"
   ]
  },
  {
   "cell_type": "code",
   "execution_count": 6,
   "id": "decd6471",
   "metadata": {},
   "outputs": [],
   "source": [
    "def getAllPointsInBoundingBox_fn(nw, se, distance):\n",
    "\n",
    "    points = []\n",
    "\n",
    "    lat = nw[0]\n",
    "    all_venues = []\n",
    "    id_=0\n",
    "    while lat >= se[0]:\n",
    "        lon= nw[1]\n",
    "        while lon <= se[1]:\n",
    "            _,lon = get_new_point(lat, lon, distance, 1.57)\n",
    "            id_=id_+1\n",
    "            points.append((id_, lat, lon))\n",
    "        lat,_ = get_new_point(lat, lon, distance, 3.1415)\n",
    "    \n",
    "    df = pd.DataFrame.from_records(points, columns='id lat lon'.split())\n",
    "    gdf = gpd.GeoDataFrame(df, geometry=gpd.points_from_xy(df.lon, df.lat))\n",
    "    gdf.set_crs(epsg=4326, inplace=True)    \n",
    "    return gdf"
   ]
  },
  {
   "cell_type": "code",
   "execution_count": 7,
   "id": "05e76a82",
   "metadata": {},
   "outputs": [],
   "source": [
    "#Spain Bounding box\n",
    "north_west = (43.7483377142, -10.39288367353)\n",
    "south_east = (35.946850084, 4.03948408368)\n",
    "\n",
    "distance = 10"
   ]
  },
  {
   "cell_type": "code",
   "execution_count": 8,
   "id": "54e42cc6",
   "metadata": {},
   "outputs": [],
   "source": [
    "candidate_points_gdf=getAllPointsInBoundingBox_fn(north_west, south_east, distance)"
   ]
  },
  {
   "cell_type": "code",
   "execution_count": 9,
   "id": "3610c77d",
   "metadata": {},
   "outputs": [],
   "source": [
    "province_gdf = province_gdf.to_crs(candidate_points_gdf.crs)"
   ]
  },
  {
   "cell_type": "code",
   "execution_count": 10,
   "id": "40b6c78c",
   "metadata": {
    "scrolled": true
   },
   "outputs": [
    {
     "data": {
      "image/png": "[encoded data removed]",
      "text/plain": [
       "<Figure size 432x288 with 1 Axes>"
      ]
     },
     "metadata": {
      "needs_background": "light"
     },
     "output_type": "display_data"
    }
   ],
   "source": [
    "ax=province_gdf.plot();\n",
    "candidate_points_gdf.plot(ax=ax,color='red');"
   ]
  },
  {
   "cell_type": "code",
   "execution_count": 11,
   "id": "29810d57",
   "metadata": {},
   "outputs": [
    {
     "data": {
      "text/html": [
       "<div>\n",
       "<style scoped>\n",
       "    .dataframe tbody tr th:only-of-type {\n",
       "        vertical-align: middle;\n",
       "    }\n",
       "\n",
       "    .dataframe tbody tr th {\n",
       "        vertical-align: top;\n",
       "    }\n",
       "\n",
       "    .dataframe thead th {\n",
       "        text-align: right;\n",
       "    }\n",
       "</style>\n",
       "<table border=\"1\" class=\"dataframe\">\n",
       "  <thead>\n",
       "    <tr style=\"text-align: right;\">\n",
       "      <th></th>\n",
       "      <th>id</th>\n",
       "      <th>lat</th>\n",
       "      <th>lon</th>\n",
       "      <th>geometry</th>\n",
       "      <th>index_right</th>\n",
       "      <th>NATCODE</th>\n",
       "      <th>NAMEUNIT</th>\n",
       "      <th>CODEUNIT</th>\n",
       "    </tr>\n",
       "  </thead>\n",
       "  <tbody>\n",
       "    <tr>\n",
       "      <th>19</th>\n",
       "      <td>20</td>\n",
       "      <td>43.748338</td>\n",
       "      <td>-7.905784</td>\n",
       "      <td>POINT (-7.90578 43.74834)</td>\n",
       "      <td>29</td>\n",
       "      <td>34121500000</td>\n",
       "      <td>A Coruña</td>\n",
       "      <td>15</td>\n",
       "    </tr>\n",
       "    <tr>\n",
       "      <th>135</th>\n",
       "      <td>136</td>\n",
       "      <td>43.658506</td>\n",
       "      <td>-8.033677</td>\n",
       "      <td>POINT (-8.03368 43.65851)</td>\n",
       "      <td>29</td>\n",
       "      <td>34121500000</td>\n",
       "      <td>A Coruña</td>\n",
       "      <td>15</td>\n",
       "    </tr>\n",
       "    <tr>\n",
       "      <th>136</th>\n",
       "      <td>137</td>\n",
       "      <td>43.658506</td>\n",
       "      <td>-7.909508</td>\n",
       "      <td>POINT (-7.90951 43.65851)</td>\n",
       "      <td>29</td>\n",
       "      <td>34121500000</td>\n",
       "      <td>A Coruña</td>\n",
       "      <td>15</td>\n",
       "    </tr>\n",
       "    <tr>\n",
       "      <th>137</th>\n",
       "      <td>138</td>\n",
       "      <td>43.658506</td>\n",
       "      <td>-7.785339</td>\n",
       "      <td>POINT (-7.78534 43.65851)</td>\n",
       "      <td>29</td>\n",
       "      <td>34121500000</td>\n",
       "      <td>A Coruña</td>\n",
       "      <td>15</td>\n",
       "    </tr>\n",
       "    <tr>\n",
       "      <th>251</th>\n",
       "      <td>252</td>\n",
       "      <td>43.568674</td>\n",
       "      <td>-8.161182</td>\n",
       "      <td>POINT (-8.16118 43.56867)</td>\n",
       "      <td>29</td>\n",
       "      <td>34121500000</td>\n",
       "      <td>A Coruña</td>\n",
       "      <td>15</td>\n",
       "    </tr>\n",
       "  </tbody>\n",
       "</table>\n",
       "</div>"
      ],
      "text/plain": [
       "      id        lat       lon                   geometry  index_right  \\\n",
       "19    20  43.748338 -7.905784  POINT (-7.90578 43.74834)           29   \n",
       "135  136  43.658506 -8.033677  POINT (-8.03368 43.65851)           29   \n",
       "136  137  43.658506 -7.909508  POINT (-7.90951 43.65851)           29   \n",
       "137  138  43.658506 -7.785339  POINT (-7.78534 43.65851)           29   \n",
       "251  252  43.568674 -8.161182  POINT (-8.16118 43.56867)           29   \n",
       "\n",
       "         NATCODE  NAMEUNIT CODEUNIT  \n",
       "19   34121500000  A Coruña       15  \n",
       "135  34121500000  A Coruña       15  \n",
       "136  34121500000  A Coruña       15  \n",
       "137  34121500000  A Coruña       15  \n",
       "251  34121500000  A Coruña       15  "
      ]
     },
     "execution_count": 11,
     "metadata": {},
     "output_type": "execute_result"
    }
   ],
   "source": [
    "final_points_gdf = gpd.sjoin(candidate_points_gdf, province_gdf, how=\"inner\", op='within')\n",
    "final_points_gdf.head()"
   ]
  },
  {
   "cell_type": "code",
   "execution_count": null,
   "id": "91a01290",
   "metadata": {},
   "outputs": [],
   "source": []
  },
  {
   "cell_type": "code",
   "execution_count": 12,
   "id": "74787cd3",
   "metadata": {},
   "outputs": [
    {
     "data": {
      "image/png": "[encoded data removed]",
      "text/plain": [
       "<Figure size 432x288 with 1 Axes>"
      ]
     },
     "metadata": {
      "needs_background": "light"
     },
     "output_type": "display_data"
    }
   ],
   "source": [
    "ax=province_gdf.plot();\n",
    "final_points_gdf.plot(ax=ax,color='red');"
   ]
  },
  {
   "cell_type": "markdown",
   "id": "e4cfbe21",
   "metadata": {},
   "source": [
    "Num of points"
   ]
  },
  {
   "cell_type": "code",
   "execution_count": 13,
   "id": "09a05902",
   "metadata": {},
   "outputs": [
    {
     "data": {
      "text/plain": [
       "4981"
      ]
     },
     "execution_count": 13,
     "metadata": {},
     "output_type": "execute_result"
    }
   ],
   "source": [
    "len(final_points_gdf)"
   ]
  },
  {
   "cell_type": "code",
   "execution_count": 14,
   "id": "b23c5cf3",
   "metadata": {},
   "outputs": [],
   "source": [
    "fs = fs.Foursquare(client_id=FOURSQUARE_API_CLIENT_ID, client_secret=FOURSQUARE_API_CLIENT_SECRET)"
   ]
  },
  {
   "cell_type": "code",
   "execution_count": null,
   "id": "929ec95c",
   "metadata": {
    "scrolled": false
   },
   "outputs": [
    {
     "name": "stderr",
     "output_type": "stream",
     "text": [
      "<ipython-input-15-e0ef5de0a437>:5: TqdmDeprecationWarning: This function will be removed in tqdm==5.0.0\n",
      "Please use `tqdm.notebook.tqdm` instead of `tqdm.tqdm_notebook`\n",
      "  for i,p in tqdm_notebook(final_points_gdf.iterrows()):\n"
     ]
    },
    {
     "data": {
      "application/vnd.jupyter.widget-view+json": {
       "model_id": "fad0fd64e05f439ab06abd3d5962a541",
       "version_major": 2,
       "version_minor": 0
      },
      "text/plain": [
       "0it [00:00, ?it/s]"
      ]
     },
     "metadata": {},
     "output_type": "display_data"
    },
    {
     "name": "stderr",
     "output_type": "stream",
     "text": [
      "Unknown error. meta: {'code': 429, 'errorType': 'quota_exceeded', 'errorDetail': 'Quota exceeded', 'requestId': '6098f72a30ee16366075dde5'}\n",
      "Unknown error. meta: {'code': 429, 'errorType': 'quota_exceeded', 'errorDetail': 'Quota exceeded', 'requestId': '6098f72b76055e5981f1e02d'}\n",
      "Unknown error. meta: {'code': 429, 'errorType': 'quota_exceeded', 'errorDetail': 'Quota exceeded', 'requestId': '6098f72d1d1a5131ee72573e'}\n"
     ]
    },
    {
     "name": "stdout",
     "output_type": "stream",
     "text": [
      "Quota_exceeded. Sleep for 24 hours... \n",
      "(26, 26) (26, 52) (26, 78) (30, 108) (29, 137) (27, 164) (27, 191) (29, 220) (30, 250) (30, 280) (28, 308) (28, 336) (29, 365) (30, 395) (27, 422) (29, 451) (29, 480) (29, 509) (29, 538) (29, 567) (28, 595) (30, 625) (29, 654) (29, 683) (29, 712) (29, 741) (29, 770) (29, 799) (28, 827) (29, 856) (28, 884) (28, 912) (29, 941) (28, 969) (29, 998) (29, 1027) (29, 1056) (29, 1085) (29, 1114) (29, 1143) (28, 1171) (28, 1199) (29, 1228) (28, 1256) (28, 1284) (29, 1313) (29, 1342) (29, 1371) (30, 1401) (28, 1429) (28, 1457) (28, 1485) (28, 1513) (28, 1541) (29, 1570) (29, 1599) (29, 1628) (30, 1658) (29, 1687) (30, 1717) (30, 1747) (28, 1775) (28, 1803) (28, 1831) (29, 1860) (29, 1889) (29, 1918) (30, 1948) (30, 1978) (30, 2008) (28, 2036) (28, 2064) (29, 2093) (29, 2122) (30, 2152) (30, 2182) (27, 2209) (29, 2238) (26, 2264) (25, 2289) (25, 2314) (28, 2342) (27, 2369) (27, 2396) (28, 2424) (27, 2451) (27, 2478) (27, 2505) (27, 2532) (28, 2560) (27, 2587) (27, 2614) (25, 2639) (24, 2663) (23, 2686) (25, 2711) (28, 2739) (27, 2766) (25, 2791) (27, 2818) (26, 2844) (27, 2871) (28, 2899) (27, 2926) (27, 2953) (26, 2979) (28, 3007) (26, 3033) (27, 3060) (29, 3089) (28, 3117) (26, 3143) (27, 3170) (28, 3198) (28, 3226) (28, 3254) (28, 3282) (28, 3310) (28, 3338) (27, 3365) (26, 3391) (24, 3415) (28, 3443) (29, 3472) (29, 3501) (29, 3530) (29, 3559) (28, 3587) (26, 3613) (27, 3640) (28, 3668) (29, 3697) (29, 3726) (29, 3755) (29, 3784) (28, 3812) (26, 3838) (23, 3861) (29, 3890) (28, 3918) (29, 3947) (29, 3976) (30, 4006) (29, 4035) (28, 4063) (26, 4089) (23, 4112) (28, 4140) (30, 4170) (30, 4200) (29, 4229) (30, 4259) (28, 4287) (27, 4314) (26, 4340) (24, 4364) (29, 4393) (29, 4422) (30, 4452) (29, 4481) (29, 4510) (27, 4537) (26, 4563) (29, 4592) (29, 4621) (30, 4651) (29, 4680) (29, 4709) (28, 4737) (27, 4764) (29, 4793) (29, 4822) (29, 4851) (28, 4879) (26, 4905) (26, 4931) (28, 4959) (28, 4987) (27, 5014) (25, 5039) (26, 5065) (26, 5091) (27, 5118) (27, 5145) (27, 5172) (25, 5197) (26, 5223) (26, 5249) (27, 5276) (26, 5302) (26, 5328) (26, 5354) (27, 5381) (27, 5408) (27, 5435) (28, 5463) (29, 5492) (27, 5519) (27, 5546) (28, 5574) (27, 5601) (25, 5626) (26, 5652) (27, 5679) (26, 5705) (24, 5729) (26, 5755) (26, 5781) (26, 5807) (27, 5834) (27, 5861) (29, 5890) (28, 5918) (27, 5945) (27, 5972) (27, 5999) (28, 6027) (28, 6055) (27, 6082) (27, 6109) (27, 6136) (27, 6163) (27, 6190) (26, 6216) (25, 6241) (26, 6267) (26, 6293) (24, 6317) (26, 6343) (26, 6369) (26, 6395) (28, 6423) (29, 6452) (28, 6480) (28, 6508) (27, 6535) (28, 6563) (28, 6591) (28, 6619) (26, 6645) (27, 6672) (27, 6699) (29, 6728) (26, 6754) (25, 6779) (26, 6805) (27, 6832) (25, 6857) (26, 6883) (26, 6909) (27, 6936) (28, 6964) (29, 6993) (28, 7021) (28, 7049) (27, 7076) (27, 7103) (26, 7129) (27, 7156) (28, 7184) (28, 7212) (26, 7238) (26, 7264) (27, 7291) (26, 7317) (24, 7341) (25, 7366) (26, 7392) (26, 7418) (27, 7445) (29, 7474) (28, 7502) (25, 7527) (26, 7553) (26, 7579) (26, 7605) (24, 7629) (22, 7651) (22, 7673) (24, 7697) (23, 7720) (30, 7750) (29, 7779) (28, 7807) (29, 7836) (30, 7866) (30, 7896) (30, 7926) (30, 7956) (30, 7986) (29, 8015) (28, 8043) (28, 8071) (28, 8099) (29, 8128) (30, 8158) (30, 8188) (30, 8218) (30, 8248) (30, 8278) (28, 8306) (28, 8334) (28, 8362) (28, 8390) (27, 8417) (28, 8445) (28, 8473) (30, 8503) (30, 8533) (30, 8563) (30, 8593) (30, 8623) (30, 8653) (30, 8683) (27, 8710) (26, 8736) (26, 8762) (28, 8790) (29, 8819) (30, 8849) (29, 8878) (27, 8905) (28, 8933) (29, 8962) (26, 8988) (26, 9014) (27, 9041) (28, 9069) (27, 9096) (27, 9123) (27, 9150) (28, 9178) (26, 9204) (26, 9230) (28, 9258) (28, 9286) (30, 9316) (30, 9346) (28, 9374) (28, 9402) (28, 9430) (29, 9459) (30, 9489) (28, 9517) (28, 9545) (28, 9573) (28, 9601) (28, 9629) (28, 9657) (29, 9686) (30, 9716) (29, 9745) (29, 9774) (30, 9804) (30, 9834) (30, 9864) (29, 9893) (29, 9922) (26, 9948) (28, 9976) (29, 10005) (28, 10033) (28, 10061) (26, 10087) (28, 10115) (29, 10144) (29, 10173) (24, 10197) (23, 10220) (28, 10248) (28, 10276) (29, 10305) (25, 10330) (23, 10353) (22, 10375) (27, 10402) (21, 10423) (28, 10451) (28, 10479) (27, 10506) (27, 10533) (25, 10558) (27, 10585) (28, 10613) (27, 10640) (27, 10667) (25, 10692) (22, 10714) (24, 10738) (25, 10763) (26, 10789) (26, 10815) (27, 10842) (30, 10872) (30, 10902) (25, 10927) (26, 10953) (26, 10979) (26, 11005) (26, 11031) (28, 11059) (28, 11087) (30, 11117) (29, 11146) (28, 11174) (28, 11202) (27, 11229) (25, 11254) (26, 11280) (26, 11306) (26, 11332) (27, 11359) (28, 11387) (28, 11415) (30, 11445) (30, 11475) (29, 11504) (27, 11531) (25, 11556) (25, 11581) (25, 11606) (27, 11633) (27, 11660) (28, 11688) (29, 11717) (29, 11746) (30, 11776) (29, 11805) (25, 11830) (27, 11857) (26, 11883) (26, 11909) (26, 11935) (26, 11961) (28, 11989) (28, 12017) (28, 12045) (28, 12073) (26, 12099) (23, 12122) (25, 12147) (27, 12174) (27, 12201) (26, 12227) (26, 12253) (28, 12281) (28, 12309) (28, 12337) (25, 12362) (24, 12386) (25, 12411) (26, 12437) (26, 12463) (26, 12489) (27, 12516) (27, 12543) (28, 12571) (28, 12599) (28, 12627) (27, 12654) (27, 12681) (27, 12708) (26, 12734) (27, 12761) (26, 12787) (26, 12813) (26, 12839) (25, 12864) (26, 12890) (26, 12916) (26, 12942) (28, 12970) (25, 12995) (25, 13020) (28, 13048) (28, 13076) (27, 13103) (25, 13128) (24, 13152) (26, 13178) (25, 13203) (28, 13231) (28, 13259) (26, 13285) (25, 13310) (24, 13334) (25, 13359) (24, 13383) (25, 13408) (24, 13432) (24, 13456) (27, 13483) (28, 13511) (28, 13539) (26, 13565) (24, 13589) (27, 13616) (24, 13640) (24, 13664) (24, 13688) (28, 13716) (24, 13740) (23, 13763) (27, 13790) (27, 13817) (28, 13845) (29, 13874) (27, 13901) (23, 13924) (23, 13947) (25, 13972) (24, 13996) (24, 14020) (26, 14046) (26, 14072) (23, 14095) (28, 14123) (28, 14151) (29, 14180) (28, 14208) (28, 14236) (26, 14262) (26, 14288) (26, 14314) (23, 14337) (23, 14360) (24, 14384) (24, 14408) (26, 14434) (26, 14460) (28, 14488) (29, 14517) (28, 14545) (29, 14574) (29, 14603) (29, 14632) (28, 14660) (26, 14686) (26, 14712) (26, 14738) (23, 14761) (25, 14786) (24, 14810) (23, 14833) (26, 14859) (26, 14885) (25, 14910) (28, 14938) (27, 14965) (27, 14992) (27, 15019) (28, 15047) (28, 15075) (29, 15104) (28, 15132) (28, 15160) (29, 15189) (24, 15213) (25, 15238) (24, 15262) (24, 15286) (26, 15312) (26, 15338) (28, 15366) (26, 15392) (26, 15418) (26, 15444) (25, 15469) (27, 15496) (27, 15523) (29, 15552) (29, 15581) (29, 15610) (30, 15640) (29, 15669) (24, 15693) (23, 15716) (25, 15741) (26, 15767) (26, 15793) (26, 15819) (26, 15845) (26, 15871) (25, 15896) (26, 15922) (25, 15947) (27, 15974) (27, 16001) (29, 16030) (29, 16059) (30, 16089) (29, 16118) (26, 16144) (26, 16170) (27, 16197) (27, 16224) (26, 16250) (26, 16276) (27, 16303) (25, 16328) (26, 16354) (25, 16379) (27, 16406) (28, 16434) (28, 16462) (30, 16492) (30, 16522) (30, 16552) (26, 16578) (27, 16605) (28, 16633) (27, 16660) (26, 16686) (26, 16712) (26, 16738) (26, 16764) (25, 16789) (27, 16816) (29, 16845) (29, 16874) (30, 16904) (29, 16933) (27, 16960) (29, 16989) (28, 17017) (26, 17043) (27, 17070) (26, 17096) (26, 17122) (26, 17148) (27, 17175) (29, 17204) (29, 17233) (27, 17260) (28, 17288) (27, 17315) (27, 17342) (29, 17371) (27, 17398) (27, 17425) (28, 17453) (29, 17482) (29, 17511) (28, 17539) (27, 17566) (26, 17592) (28, 17620) (28, 17648) (28, 17676) (27, 17703) (27, 17730) (28, 17758) (27, 17785) (28, 17813) (28, 17841) (28, 17869) (25, 17894) (25, 17919) (27, 17946) (28, 17974) (28, 18002) (28, 18030) (27, 18057) (25, 18082) (24, 18106) (24, 18130) (24, 18154) (29, 18183) (30, 18213) (30, 18243) (30, 18273) (30, 18303) (29, 18332) (27, 18359) (27, 18386) (26, 18412) (25, 18437) (24, 18461) (28, 18489) (28, 18517) (28, 18545) (29, 18574) (30, 18604) (29, 18633) (30, 18663) (27, 18690) (27, 18717) (28, 18745) (27, 18772) (28, 18800) (27, 18827) (29, 18856) (30, 18886) (29, 18915) (29, 18944) (28, 18972) (27, 18999) (27, 19026) (27, 19053) (28, 19081) (28, 19109) (30, 19139) (28, 19167) (28, 19195) (29, 19224) (28, 19252) (28, 19280) (28, 19308) (27, 19335) (27, 19362) (28, 19390) (28, 19418) (28, 19446) (30, 19476) (29, 19505) (29, 19534) (27, 19561) (27, 19588) (28, 19616) (28, 19644) (28, 19672) (28, 19700) (29, 19729) (29, 19758) (29, 19787) (28, 19815) (28, 19843) (28, 19871) (27, 19898) (26, 19924) (27, 19951) (27, 19978) (30, 20008) (28, 20036) (28, 20064) (28, 20092) (27, 20119) (27, 20146) (25, 20171) (26, 20197) (26, 20223) (28, 20251) (28, 20279) (26, 20305) (26, 20331) (27, 20358) (25, 20383) (26, 20409) (26, 20435) (26, 20461) (24, 20485) (24, 20509) (27, 20536) (26, 20562) (25, 20587) (26, 20613) (26, 20639) (27, 20666) (25, 20691) (24, 20715) (25, 20740) (25, 20765) (22, 20787) (26, 20813) (25, 20838) (25, 20863) (24, 20887) (25, 20912) (22, 20934) (23, 20957) (25, 20982) (25, 21007) (25, 21032) (24, 21056) (23, 21079) (23, 21102) (24, 21126) (24, 21150) (24, 21174) (24, 21198) (23, 21221) (28, 21249) (29, 21278) (29, 21307) (28, 21335) (28, 21363) (30, 21393) (28, 21421) (27, 21448) (25, 21473) (29, 21502) (29, 21531) (29, 21560) (29, 21589) (28, 21617) (27, 21644) (26, 21670) (29, 21699) (27, 21726) (25, 21751) (30, 21781) (28, 21809) (28, 21837) (28, 21865) (24, 21889) (30, 21919) (28, 21947) (27, 21974) (25, 21999) (27, 22026) (28, 22054) (28, 22082) (27, 22109) (27, 22136) (25, 22161) (27, 22188) (27, 22215) (28, 22243) (28, 22271) (26, 22297) (27, 22324) (28, 22352) (27, 22379) (28, 22407) (28, 22435) (28, 22463) (28, 22491) (27, 22518) (28, 22546) (28, 22574) (27, 22601) (27, 22628) (28, 22656) (27, 22683) (27, 22710) (28, 22738) (27, 22765) (27, 22792) (28, 22820) (29, 22849) (29, 22878) (29, 22907) (29, 22936) (28, 22964) (30, 22994) (30, 23024) (29, 23053) (29, 23082) (30, 23112) (30, 23142) (30, 23172) (29, 23201) (29, 23230) (29, 23259) (30, 23289) (30, 23319) (29, 23348) (29, 23377) (29, 23406) (28, 23434) (29, 23463) (29, 23492) (28, 23520) (28, 23548) (28, 23576) (28, 23604) (29, 23633) (28, 23661) (28, 23689) (28, 23717) (28, 23745) (28, 23773) (28, 23801) (29, 23830) (29, 23859) (24, 23883) (28, 23911) (28, 23939) (27, 23966) (26, 23992) (26, 24018) (26, 24044) (28, 24072) (23, 24095) (26, 24121) (26, 24147) (27, 24174) (26, 24200) (26, 24226) (27, 24253) (30, 24283) (30, 24313) (30, 24343) (27, 24370) (29, 24399) (30, 24429) (30, 24459) (30, 24489) (28, 24517) (28, 24545) (29, 24574) (29, 24603) (29, 24632) (28, 24660) (28, 24688) (27, 24715) (27, 24742) (29, 24771) (30, 24801) (30, 24831) (30, 24861) (29, 24890) (30, 24920) (29, 24949) (29, 24978) (27, 25005) (30, 25035) (30, 25065) (30, 25095) (29, 25124) (26, 25150) (29, 25179) (29, 25208) (27, 25235) (27, 25262) (26, 25288) (27, 25315) (28, 25343) (27, 25370) (27, 25397) (28, 25425) (28, 25453) (28, 25481) (29, 25510) (28, 25538) (28, 25566) (29, 25595) (28, 25623) (28, 25651) (28, 25679) (28, 25707) (28, 25735) (29, 25764) (29, 25793) (28, 25821) (28, 25849) (28, 25877) (28, 25905) (27, 25932) (26, 25958) "
     ]
    },
    {
     "name": "stderr",
     "output_type": "stream",
     "text": [
      "Unknown error. meta: {'code': 429, 'errorType': 'quota_exceeded', 'errorDetail': 'Quota exceeded', 'requestId': '609a4a416ae5300c634ae34e'}\n",
      "Unknown error. meta: {'code': 429, 'errorType': 'quota_exceeded', 'errorDetail': 'Quota exceeded', 'requestId': '609a4a43c81c5a0f9e3ad41b'}\n",
      "Unknown error. meta: {'code': 429, 'errorType': 'quota_exceeded', 'errorDetail': 'Quota exceeded', 'requestId': '609a4a443270d362af85d405'}\n"
     ]
    },
    {
     "name": "stdout",
     "output_type": "stream",
     "text": [
      "Quota_exceeded. Sleep for 24 hours... \n"
     ]
    }
   ],
   "source": [
    "stats = []\n",
    "all_venues = []\n",
    "fs_target_category = '4bf58dd8d48988d1fa931735' #hotel category id\n",
    "\n",
    "for i,p in tqdm_notebook(final_points_gdf.iterrows()):\n",
    "    lon = p['geometry'].x\n",
    "    lat = p['geometry'].y\n",
    "    \n",
    "    try:\n",
    "        venues = fs.venues.search(params={'categoryId': '{}'.format(fs_target_category),'ll': '{},{}'.format(lat,lon), \n",
    "                                                  'radius': (distance+20)*1000})\n",
    "\n",
    "        all_venues= all_venues + venues['venues']    \n",
    "        stats.append((i, len(venues['venues']), lat, lon))\n",
    "        print((len(venues['venues']), len(all_venues)), end=' ')\n",
    "    except:\n",
    "        print(\"Quota_exceeded. Sleep for 24 hours... \")\n",
    "        time.sleep(24 * 60 * 60) # Wait for 24 hours\n",
    "        \n",
    "stats_df = pd.DataFrame.from_records(stats, columns='id num_hotels lat lon'.split())\n",
    "stats_df = stats_df.set_index('id')\n",
    "final_points_gdf['num_hotels'] = stats_df['num_hotels']"
   ]
  },
  {
   "cell_type": "code",
   "execution_count": null,
   "id": "f28fcb6b",
   "metadata": {},
   "outputs": [],
   "source": [
    "now = datetime.now()\n",
    "dt_string = now.strftime(\"%Y-%m-%d-%H-%M-%S\")"
   ]
  },
  {
   "cell_type": "code",
   "execution_count": null,
   "id": "ac4db264",
   "metadata": {},
   "outputs": [],
   "source": [
    "with open(os.path.join('data',f\"fs_hotels_{dt_string}.dat\"), \"wb\") as fp:   #Pickling\n",
    "    pickle.dump(all_venues, fp)"
   ]
  },
  {
   "cell_type": "code",
   "execution_count": null,
   "id": "ad7c75ea",
   "metadata": {},
   "outputs": [],
   "source": [
    "stats_df.to_csv(os.path.join('data', f'fs_stats_{dt_string}.csv'))"
   ]
  },
  {
   "cell_type": "markdown",
   "id": "7ed677ab",
   "metadata": {},
   "source": [
    "## General stats from FS data"
   ]
  },
  {
   "cell_type": "code",
   "execution_count": 6,
   "id": "bb8d95c7",
   "metadata": {},
   "outputs": [],
   "source": [
    "import pickle\n",
    "import os\n",
    "import pandas as pd"
   ]
  },
  {
   "cell_type": "code",
   "execution_count": 3,
   "id": "3f14e920",
   "metadata": {},
   "outputs": [],
   "source": [
    "with open(os.path.join('data',\"fs_hotels_2021-05-17-11-41-28.dat\"), \"rb\") as fp:   #Pickling\n",
    "    f = pickle.load(fp)"
   ]
  },
  {
   "cell_type": "code",
   "execution_count": 9,
   "id": "c0133090",
   "metadata": {},
   "outputs": [
    {
     "data": {
      "text/html": [
       "<div>\n",
       "<style scoped>\n",
       "    .dataframe tbody tr th:only-of-type {\n",
       "        vertical-align: middle;\n",
       "    }\n",
       "\n",
       "    .dataframe tbody tr th {\n",
       "        vertical-align: top;\n",
       "    }\n",
       "\n",
       "    .dataframe thead th {\n",
       "        text-align: right;\n",
       "    }\n",
       "</style>\n",
       "<table border=\"1\" class=\"dataframe\">\n",
       "  <thead>\n",
       "    <tr style=\"text-align: right;\">\n",
       "      <th></th>\n",
       "      <th>id</th>\n",
       "      <th>name</th>\n",
       "      <th>location</th>\n",
       "      <th>categories</th>\n",
       "      <th>referralId</th>\n",
       "      <th>hasPerk</th>\n",
       "      <th>venuePage</th>\n",
       "    </tr>\n",
       "  </thead>\n",
       "  <tbody>\n",
       "    <tr>\n",
       "      <th>0</th>\n",
       "      <td>4dab45976a2303012f20864a</td>\n",
       "      <td>Leira Antiga</td>\n",
       "      <td>{'lat': 43.661271, 'lng': -8.039247, 'labeledL...</td>\n",
       "      <td>[{'id': '4bf58dd8d48988d1fa931735', 'name': 'H...</td>\n",
       "      <td>v-1620723883</td>\n",
       "      <td>False</td>\n",
       "      <td>NaN</td>\n",
       "    </tr>\n",
       "    <tr>\n",
       "      <th>1</th>\n",
       "      <td>4c90161e6fbf224b71e9508f</td>\n",
       "      <td>Hotel Spa Sercotel Odeón</td>\n",
       "      <td>{'address': 'Rúa Cataluña, 20', 'crossStreet':...</td>\n",
       "      <td>[{'id': '4bf58dd8d48988d1fa931735', 'name': 'H...</td>\n",
       "      <td>v-1620723883</td>\n",
       "      <td>False</td>\n",
       "      <td>NaN</td>\n",
       "    </tr>\n",
       "    <tr>\n",
       "      <th>2</th>\n",
       "      <td>4bd1b52f5e0cce7235dea184</td>\n",
       "      <td>Hotel Parador de Ferrol</td>\n",
       "      <td>{'address': 'Praza do Almirante Fernández Mart...</td>\n",
       "      <td>[{'id': '4bf58dd8d48988d1fa931735', 'name': 'H...</td>\n",
       "      <td>v-1620723883</td>\n",
       "      <td>False</td>\n",
       "      <td>NaN</td>\n",
       "    </tr>\n",
       "    <tr>\n",
       "      <th>3</th>\n",
       "      <td>4f9fdb4be4b0410091f3574f</td>\n",
       "      <td>Surftrip Galice Surf Camp</td>\n",
       "      <td>{'lat': 43.51539074250371, 'lng': -8.312322101...</td>\n",
       "      <td>[{'id': '4bf58dd8d48988d1ee931735', 'name': 'H...</td>\n",
       "      <td>v-1620723883</td>\n",
       "      <td>False</td>\n",
       "      <td>NaN</td>\n",
       "    </tr>\n",
       "    <tr>\n",
       "      <th>4</th>\n",
       "      <td>55af4a35498e6a04ba747a6c</td>\n",
       "      <td>Hotel Valcarce</td>\n",
       "      <td>{'address': 'Polígono Ind. Río do Pozo', 'cros...</td>\n",
       "      <td>[{'id': '4bf58dd8d48988d1fa931735', 'name': 'H...</td>\n",
       "      <td>v-1620723883</td>\n",
       "      <td>False</td>\n",
       "      <td>NaN</td>\n",
       "    </tr>\n",
       "  </tbody>\n",
       "</table>\n",
       "</div>"
      ],
      "text/plain": [
       "                         id                       name  \\\n",
       "0  4dab45976a2303012f20864a               Leira Antiga   \n",
       "1  4c90161e6fbf224b71e9508f   Hotel Spa Sercotel Odeón   \n",
       "2  4bd1b52f5e0cce7235dea184    Hotel Parador de Ferrol   \n",
       "3  4f9fdb4be4b0410091f3574f  Surftrip Galice Surf Camp   \n",
       "4  55af4a35498e6a04ba747a6c             Hotel Valcarce   \n",
       "\n",
       "                                            location  \\\n",
       "0  {'lat': 43.661271, 'lng': -8.039247, 'labeledL...   \n",
       "1  {'address': 'Rúa Cataluña, 20', 'crossStreet':...   \n",
       "2  {'address': 'Praza do Almirante Fernández Mart...   \n",
       "3  {'lat': 43.51539074250371, 'lng': -8.312322101...   \n",
       "4  {'address': 'Polígono Ind. Río do Pozo', 'cros...   \n",
       "\n",
       "                                          categories    referralId  hasPerk  \\\n",
       "0  [{'id': '4bf58dd8d48988d1fa931735', 'name': 'H...  v-1620723883    False   \n",
       "1  [{'id': '4bf58dd8d48988d1fa931735', 'name': 'H...  v-1620723883    False   \n",
       "2  [{'id': '4bf58dd8d48988d1fa931735', 'name': 'H...  v-1620723883    False   \n",
       "3  [{'id': '4bf58dd8d48988d1ee931735', 'name': 'H...  v-1620723883    False   \n",
       "4  [{'id': '4bf58dd8d48988d1fa931735', 'name': 'H...  v-1620723883    False   \n",
       "\n",
       "  venuePage  \n",
       "0       NaN  \n",
       "1       NaN  \n",
       "2       NaN  \n",
       "3       NaN  \n",
       "4       NaN  "
      ]
     },
     "execution_count": 9,
     "metadata": {},
     "output_type": "execute_result"
    }
   ],
   "source": [
    "fs_hotels_df =pd.DataFrame(f)\n",
    "fs_hotels_df.head()"
   ]
  },
  {
   "cell_type": "code",
   "execution_count": 10,
   "id": "345c7815",
   "metadata": {},
   "outputs": [
    {
     "name": "stdout",
     "output_type": "stream",
     "text": [
      "<class 'pandas.core.frame.DataFrame'>\n",
      "RangeIndex: 128820 entries, 0 to 128819\n",
      "Data columns (total 7 columns):\n",
      " #   Column      Non-Null Count   Dtype \n",
      "---  ------      --------------   ----- \n",
      " 0   id          128820 non-null  object\n",
      " 1   name        128820 non-null  object\n",
      " 2   location    128820 non-null  object\n",
      " 3   categories  128820 non-null  object\n",
      " 4   referralId  128820 non-null  object\n",
      " 5   hasPerk     128820 non-null  bool  \n",
      " 6   venuePage   6119 non-null    object\n",
      "dtypes: bool(1), object(6)\n",
      "memory usage: 6.0+ MB\n"
     ]
    }
   ],
   "source": [
    "fs_hotels_df.info()"
   ]
  },
  {
   "cell_type": "code",
   "execution_count": 11,
   "id": "cb5eb8ea",
   "metadata": {},
   "outputs": [
    {
     "name": "stdout",
     "output_type": "stream",
     "text": [
      "<class 'pandas.core.frame.DataFrame'>\n",
      "Int64Index: 7375 entries, 0 to 128788\n",
      "Data columns (total 7 columns):\n",
      " #   Column      Non-Null Count  Dtype \n",
      "---  ------      --------------  ----- \n",
      " 0   id          7375 non-null   object\n",
      " 1   name        7375 non-null   object\n",
      " 2   location    7375 non-null   object\n",
      " 3   categories  7375 non-null   object\n",
      " 4   referralId  7375 non-null   object\n",
      " 5   hasPerk     7375 non-null   bool  \n",
      " 6   venuePage   337 non-null    object\n",
      "dtypes: bool(1), object(6)\n",
      "memory usage: 410.5+ KB\n"
     ]
    }
   ],
   "source": [
    "fs_hotels_df.drop_duplicates('id').info()"
   ]
  },
  {
   "cell_type": "code",
   "execution_count": null,
   "id": "c03ca63f",
   "metadata": {},
   "outputs": [],
   "source": [
    "print(\"That's all folks\")"
   ]
  },
  {
   "cell_type": "markdown",
   "id": "bfb1c185",
   "metadata": {},
   "source": [
    "# Test Code"
   ]
  },
  {
   "cell_type": "code",
   "execution_count": null,
   "id": "e6e20cab",
   "metadata": {
    "scrolled": true
   },
   "outputs": [],
   "source": [
    "distance = 50\n",
    "fs_target_category = '4bf58dd8d48988d1fa931735' #hotel category id\n",
    "\n",
    "#fsh = FoursquareHandler(FOURSQUARE_API_CLIENT_ID,FOURSQUARE_API_CLIENT_SECRET)\n",
    "fs = fs.Foursquare(client_id=FOURSQUARE_API_CLIENT_ID, client_secret=FOURSQUARE_API_CLIENT_SECRET)\n",
    "\n",
    "stats = []\n",
    "\n",
    "lat = north_west[0]\n",
    "all_venues = []\n",
    "while lat >= south_east[0]:\n",
    "    lon= north_west[1]\n",
    "    while lon <= south_east[1]:\n",
    "        _,lon = get_new_point(lat, lon, distance, 1.57)\n",
    "        try:\n",
    "            #venues= fsh.getVenuesAround((lat, lon), fs_target_category, distance+20)\n",
    "            venues = fs.venues.search(params={'categoryId': '{}'.format(fs_target_category),'ll': '{},{}'.format(lat,lon), \n",
    "                                              'radius': distance+20, \n",
    "                                              'intent': 'browse'})\n",
    "            \n",
    "            all_venues= all_venues + venues['venues']    \n",
    "            stats.append((len(venues['venues']), lat, lon))\n",
    "            print((len(venues['venues']), len(all_venues)), end=' ')\n",
    "        except:\n",
    "            print(\"Quota_exceeded. Sleep for 60 minutes... \")\n",
    "            time.sleep(60*60)\n",
    "    lat,_ = get_new_point(lat, lon, distance, 3.1415)    "
   ]
  },
  {
   "cell_type": "code",
   "execution_count": null,
   "id": "2f7efc95",
   "metadata": {},
   "outputs": [],
   "source": [
    "now = datetime.now()\n",
    "dt_string = now.strftime(\"%Y-%m-%d-%H-%M-%S\")"
   ]
  },
  {
   "cell_type": "code",
   "execution_count": null,
   "id": "b9a223c8",
   "metadata": {},
   "outputs": [],
   "source": [
    "with open(os.path.join('data',f\"fs_hotels_{dt_string}.dat\"), \"wb\") as fp:   #Pickling\n",
    "    pickle.dump(all_venues, fp)"
   ]
  },
  {
   "cell_type": "code",
   "execution_count": null,
   "id": "2775a819",
   "metadata": {},
   "outputs": [],
   "source": [
    "stats_df = pd.DataFrame.from_records(stats, columns='num_hotels lat lon'.split())\n",
    "stats_df.head()"
   ]
  },
  {
   "cell_type": "code",
   "execution_count": null,
   "id": "0eeb5a8e",
   "metadata": {},
   "outputs": [],
   "source": [
    "stats_df"
   ]
  },
  {
   "cell_type": "code",
   "execution_count": null,
   "id": "44271821",
   "metadata": {},
   "outputs": [],
   "source": [
    "stats_df.to_csv(os.path.join('data', f'fs_stats_{dt_string}.csv'))"
   ]
  }
 ],
 "metadata": {
  "kernelspec": {
   "display_name": "Python 3 (ipykernel)",
   "language": "python",
   "name": "python3"
  },
  "language_info": {
   "codemirror_mode": {
    "name": "ipython",
    "version": 3
   },
   "file_extension": ".py",
   "mimetype": "text/x-python",
   "name": "python",
   "nbconvert_exporter": "python",
   "pygments_lexer": "ipython3",
   "version": "3.8.10"
  }
 },
 "nbformat": 4,
 "nbformat_minor": 5
}
