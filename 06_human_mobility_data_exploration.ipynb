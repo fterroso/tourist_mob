{
 "cells": [
  {
   "cell_type": "code",
   "execution_count": 7,
   "id": "fc233c80",
   "metadata": {},
   "outputs": [],
   "source": [
    "import pandas as pd\n",
    "import os\n",
    "import datetime\n",
    "from datetime import timedelta\n",
    "from tqdm.notebook import tqdm\n"
   ]
  },
  {
   "cell_type": "code",
   "execution_count": 8,
   "id": "a0ebb525",
   "metadata": {},
   "outputs": [],
   "source": [
    "data_path=os.path.join('data', 'mobility')\n",
    "i_date = datetime.datetime.strptime('2020-04-01', '%Y-%m-%d')\n",
    "e_date = datetime.datetime.strptime('2020-10-31', '%Y-%m-%d')"
   ]
  },
  {
   "cell_type": "code",
   "execution_count": 9,
   "id": "8e149a2a",
   "metadata": {},
   "outputs": [],
   "source": [
    "def generate_days_fn(init_date, final_date):\n",
    "    \n",
    "    delta = final_date - init_date       # as timedelta\n",
    "\n",
    "    target_days = []\n",
    "    for i in range(delta.days + 1):\n",
    "        day = init_date + timedelta(days=i)\n",
    "        target_days.append(day)\n",
    "    \n",
    "    return target_days"
   ]
  },
  {
   "cell_type": "code",
   "execution_count": 10,
   "id": "a7b421a5",
   "metadata": {},
   "outputs": [],
   "source": [
    "def read_INE_trips_date_fn(date_, trips_type='all', criteria= None):\n",
    "    date_str= date_.strftime('%Y%m%d')\n",
    "    year_month_str = date_.strftime('%Y%m')\n",
    "    df_date= pd.read_csv(os.path.join(data_path, f'{year_month_str}_maestra1_mitma_distrito', f'{date_str}_maestra_1_mitma_distrito.txt.gz'), \n",
    "                             sep='|',dtype={'origen':str, 'destino':str,'fecha':str, 'periodo':str}, compression='gzip')\n",
    "    \n",
    "    if trips_type=='inter':\n",
    "        df_date= df_date[df_date['origen']!=df_date['destino']] #only keep trips between areas\n",
    "    elif trips_type=='intra':\n",
    "        df_date= df_date[df_date['origen']==df_date['destino']] #only keep trips within the areas\n",
    "    \n",
    "    if criteria is not None:\n",
    "        for col,value in criteria.items():\n",
    "            df_date = df_date[df_date[col]==value]\n",
    "        \n",
    "    #convert period column to a two-digit string\n",
    "    df_date['periodo'] = df_date['periodo'].apply(lambda x: x.zfill(2))\n",
    "    df_date= df_date.fillna(0) # set nan as 0\n",
    "    return df_date"
   ]
  },
  {
   "cell_type": "code",
   "execution_count": 11,
   "id": "ce158ae4",
   "metadata": {},
   "outputs": [],
   "source": [
    "def generate_daily_time_series_fn(from_date, to_date, trips_type='all', filter_criteria= None):\n",
    "    dfs = []\n",
    "    target_days = generate_days_fn(from_date, to_date)\n",
    "    for date in tqdm(target_days):\n",
    "        df_= read_INE_trips_date_fn(date, trips_type, filter_criteria)\n",
    "        dfs.append(df_)\n",
    "    return pd.concat(dfs, axis=0)        "
   ]
  },
  {
   "cell_type": "code",
   "execution_count": null,
   "id": "42355c5d",
   "metadata": {},
   "outputs": [
    {
     "data": {
      "application/vnd.jupyter.widget-view+json": {
       "model_id": "caa034c386c04000ae09e08ac84828b8",
       "version_major": 2,
       "version_minor": 0
      },
      "text/plain": [
       "  0%|          | 0/214 [00:00<?, ?it/s]"
      ]
     },
     "metadata": {},
     "output_type": "display_data"
    }
   ],
   "source": [
    "criteria_1= {'actividad_origen':'otros', 'actividad_destino':'otros', 'distancia':'100+'}\n",
    "flow_oo = generate_daily_time_series_fn(i_date, e_date, 'all', criteria_1 )\n",
    "\n",
    "criteria_2= {'actividad_origen':'casa', 'actividad_destino':'otros', 'distancia':'100+'}\n",
    "flow_ho = generate_daily_time_series_fn(i_date, e_date, 'all', criteria_2)\n",
    "\n",
    "criteria_3= {'actividad_origen':'otros', 'actividad_destino':'casa', 'distancia':'100+'}\n",
    "flow_oh = generate_daily_time_series_fn(i_date, e_date, 'all', criteria_3)"
   ]
  },
  {
   "cell_type": "code",
   "execution_count": null,
   "id": "39a8654a",
   "metadata": {},
   "outputs": [],
   "source": [
    "flow_oo.head()"
   ]
  },
  {
   "cell_type": "code",
   "execution_count": null,
   "id": "fa071610",
   "metadata": {},
   "outputs": [],
   "source": [
    "ax= flow_oo.groupby('fecha')['viajes'].sum().plot( label='oo', legend=True);\n",
    "flow_ho.groupby('fecha')['viajes'].sum().plot(ax=ax, label='ho', legend=True);\n",
    "flow_oh.groupby('fecha')['viajes'].sum().plot(grid=True, ax=ax, label='oh', legend=True);"
   ]
  },
  {
   "cell_type": "code",
   "execution_count": null,
   "id": "4aecf7e0",
   "metadata": {},
   "outputs": [],
   "source": []
  },
  {
   "cell_type": "code",
   "execution_count": null,
   "id": "e3a60007",
   "metadata": {},
   "outputs": [],
   "source": [
    "flow_o_o.head()"
   ]
  },
  {
   "cell_type": "code",
   "execution_count": 15,
   "id": "48ad2f15",
   "metadata": {
    "scrolled": true
   },
   "outputs": [
    {
     "name": "stderr",
     "output_type": "stream",
     "text": [
      "/Users/Fer/anaconda3/envs/tourist_mob_env/lib/python3.9/site-packages/IPython/core/interactiveshell.py:3441: DtypeWarning: Columns (1) have mixed types.Specify dtype option on import or set low_memory=False.\n",
      "  exec(code_obj, self.user_global_ns, self.user_ns)\n"
     ]
    }
   ],
   "source": [
    "mob_data = pd.read_csv(os.path.join('data', 'mobility', '202003_maestra1_mitma_distrito', '20200302_maestra_1.txt',),\n",
    "                      sep='|')"
   ]
  },
  {
   "cell_type": "code",
   "execution_count": 11,
   "id": "eb1e8bbc",
   "metadata": {},
   "outputs": [],
   "source": [
    "def get_timestamp_fn(row):\n",
    "    d = row['fecha']\n",
    "    h = row['periodo']\n",
    "    date_time_obj = datetime.datetime.strptime(f'{d} {h}', '%Y%m%d %H')\n",
    "    return date_time_obj"
   ]
  },
  {
   "cell_type": "code",
   "execution_count": 23,
   "id": "16550b5c",
   "metadata": {
    "scrolled": true
   },
   "outputs": [],
   "source": [
    "#mob_data['date'] = mob_data.apply(get_timestamp_fn, axis=1)"
   ]
  },
  {
   "cell_type": "code",
   "execution_count": 16,
   "id": "d6773a2e",
   "metadata": {},
   "outputs": [
    {
     "data": {
      "text/html": [
       "<div>\n",
       "<style scoped>\n",
       "    .dataframe tbody tr th:only-of-type {\n",
       "        vertical-align: middle;\n",
       "    }\n",
       "\n",
       "    .dataframe tbody tr th {\n",
       "        vertical-align: top;\n",
       "    }\n",
       "\n",
       "    .dataframe thead th {\n",
       "        text-align: right;\n",
       "    }\n",
       "</style>\n",
       "<table border=\"1\" class=\"dataframe\">\n",
       "  <thead>\n",
       "    <tr style=\"text-align: right;\">\n",
       "      <th></th>\n",
       "      <th>fecha</th>\n",
       "      <th>origen</th>\n",
       "      <th>destino</th>\n",
       "      <th>actividad_origen</th>\n",
       "      <th>actividad_destino</th>\n",
       "      <th>residencia</th>\n",
       "      <th>edad</th>\n",
       "      <th>periodo</th>\n",
       "      <th>distancia</th>\n",
       "      <th>viajes</th>\n",
       "      <th>viajes_km</th>\n",
       "    </tr>\n",
       "  </thead>\n",
       "  <tbody>\n",
       "    <tr>\n",
       "      <th>0</th>\n",
       "      <td>20200302</td>\n",
       "      <td>01001_AM</td>\n",
       "      <td>01001_AM</td>\n",
       "      <td>casa</td>\n",
       "      <td>otros</td>\n",
       "      <td>1</td>\n",
       "      <td>NaN</td>\n",
       "      <td>0</td>\n",
       "      <td>002-005</td>\n",
       "      <td>6.023</td>\n",
       "      <td>26.668</td>\n",
       "    </tr>\n",
       "    <tr>\n",
       "      <th>1</th>\n",
       "      <td>20200302</td>\n",
       "      <td>01001_AM</td>\n",
       "      <td>01001_AM</td>\n",
       "      <td>casa</td>\n",
       "      <td>otros</td>\n",
       "      <td>1</td>\n",
       "      <td>NaN</td>\n",
       "      <td>1</td>\n",
       "      <td>005-010</td>\n",
       "      <td>12.238</td>\n",
       "      <td>96.666</td>\n",
       "    </tr>\n",
       "    <tr>\n",
       "      <th>2</th>\n",
       "      <td>20200302</td>\n",
       "      <td>01001_AM</td>\n",
       "      <td>01001_AM</td>\n",
       "      <td>casa</td>\n",
       "      <td>otros</td>\n",
       "      <td>1</td>\n",
       "      <td>NaN</td>\n",
       "      <td>2</td>\n",
       "      <td>005-010</td>\n",
       "      <td>6.119</td>\n",
       "      <td>60.455</td>\n",
       "    </tr>\n",
       "    <tr>\n",
       "      <th>3</th>\n",
       "      <td>20200302</td>\n",
       "      <td>01001_AM</td>\n",
       "      <td>01001_AM</td>\n",
       "      <td>casa</td>\n",
       "      <td>otros</td>\n",
       "      <td>1</td>\n",
       "      <td>NaN</td>\n",
       "      <td>2</td>\n",
       "      <td>010-050</td>\n",
       "      <td>4.431</td>\n",
       "      <td>56.484</td>\n",
       "    </tr>\n",
       "    <tr>\n",
       "      <th>4</th>\n",
       "      <td>20200302</td>\n",
       "      <td>01001_AM</td>\n",
       "      <td>01001_AM</td>\n",
       "      <td>casa</td>\n",
       "      <td>otros</td>\n",
       "      <td>1</td>\n",
       "      <td>NaN</td>\n",
       "      <td>3</td>\n",
       "      <td>005-010</td>\n",
       "      <td>8.164</td>\n",
       "      <td>56.366</td>\n",
       "    </tr>\n",
       "  </tbody>\n",
       "</table>\n",
       "</div>"
      ],
      "text/plain": [
       "      fecha    origen   destino actividad_origen actividad_destino  \\\n",
       "0  20200302  01001_AM  01001_AM             casa             otros   \n",
       "1  20200302  01001_AM  01001_AM             casa             otros   \n",
       "2  20200302  01001_AM  01001_AM             casa             otros   \n",
       "3  20200302  01001_AM  01001_AM             casa             otros   \n",
       "4  20200302  01001_AM  01001_AM             casa             otros   \n",
       "\n",
       "   residencia  edad  periodo distancia  viajes  viajes_km  \n",
       "0           1   NaN        0   002-005   6.023     26.668  \n",
       "1           1   NaN        1   005-010  12.238     96.666  \n",
       "2           1   NaN        2   005-010   6.119     60.455  \n",
       "3           1   NaN        2   010-050   4.431     56.484  \n",
       "4           1   NaN        3   005-010   8.164     56.366  "
      ]
     },
     "execution_count": 16,
     "metadata": {},
     "output_type": "execute_result"
    }
   ],
   "source": [
    "mob_data.head()"
   ]
  },
  {
   "cell_type": "code",
   "execution_count": 19,
   "id": "c34ccb7a",
   "metadata": {},
   "outputs": [
    {
     "data": {
      "text/plain": [
       "array(['002-005', '005-010', '010-050', '0005-002', '050-100', '100+'],\n",
       "      dtype=object)"
      ]
     },
     "execution_count": 19,
     "metadata": {},
     "output_type": "execute_result"
    }
   ],
   "source": [
    "mob_data['distancia'].unique()"
   ]
  },
  {
   "cell_type": "code",
   "execution_count": 20,
   "id": "de93e9bb",
   "metadata": {},
   "outputs": [],
   "source": [
    "flow1 = mob_data[(mob_data['actividad_origen']=='otros')&\n",
    "                 (mob_data['actividad_destino']=='otros') & \n",
    "                 (mob_data['distancia']=='100+')]\n",
    "flow2 = mob_data[(mob_data['actividad_origen']=='casa')&\n",
    "                 (mob_data['actividad_destino']=='otros')& \n",
    "                 (mob_data['distancia']=='100+')]\n",
    "flow3 = mob_data[(mob_data['actividad_origen']=='otros')&\n",
    "                 (mob_data['actividad_destino']=='casa')& \n",
    "                 (mob_data['distancia']=='100+')]"
   ]
  },
  {
   "cell_type": "code",
   "execution_count": 21,
   "id": "cc267dba",
   "metadata": {},
   "outputs": [
    {
     "data": {
      "text/html": [
       "<div>\n",
       "<style scoped>\n",
       "    .dataframe tbody tr th:only-of-type {\n",
       "        vertical-align: middle;\n",
       "    }\n",
       "\n",
       "    .dataframe tbody tr th {\n",
       "        vertical-align: top;\n",
       "    }\n",
       "\n",
       "    .dataframe thead th {\n",
       "        text-align: right;\n",
       "    }\n",
       "</style>\n",
       "<table border=\"1\" class=\"dataframe\">\n",
       "  <thead>\n",
       "    <tr style=\"text-align: right;\">\n",
       "      <th></th>\n",
       "      <th>fecha</th>\n",
       "      <th>origen</th>\n",
       "      <th>destino</th>\n",
       "      <th>actividad_origen</th>\n",
       "      <th>actividad_destino</th>\n",
       "      <th>residencia</th>\n",
       "      <th>edad</th>\n",
       "      <th>periodo</th>\n",
       "      <th>distancia</th>\n",
       "      <th>viajes</th>\n",
       "      <th>viajes_km</th>\n",
       "    </tr>\n",
       "  </thead>\n",
       "  <tbody>\n",
       "    <tr>\n",
       "      <th>1106</th>\n",
       "      <td>20200302</td>\n",
       "      <td>01001_AM</td>\n",
       "      <td>06060_AM</td>\n",
       "      <td>otros</td>\n",
       "      <td>otros</td>\n",
       "      <td>21</td>\n",
       "      <td>NaN</td>\n",
       "      <td>1</td>\n",
       "      <td>100+</td>\n",
       "      <td>8.720</td>\n",
       "      <td>4681.820</td>\n",
       "    </tr>\n",
       "    <tr>\n",
       "      <th>1107</th>\n",
       "      <td>20200302</td>\n",
       "      <td>01001_AM</td>\n",
       "      <td>06095_AM</td>\n",
       "      <td>otros</td>\n",
       "      <td>otros</td>\n",
       "      <td>8</td>\n",
       "      <td>NaN</td>\n",
       "      <td>7</td>\n",
       "      <td>100+</td>\n",
       "      <td>4.406</td>\n",
       "      <td>2711.512</td>\n",
       "    </tr>\n",
       "    <tr>\n",
       "      <th>1108</th>\n",
       "      <td>20200302</td>\n",
       "      <td>01001_AM</td>\n",
       "      <td>06153</td>\n",
       "      <td>otros</td>\n",
       "      <td>otros</td>\n",
       "      <td>3</td>\n",
       "      <td>NaN</td>\n",
       "      <td>0</td>\n",
       "      <td>100+</td>\n",
       "      <td>6.192</td>\n",
       "      <td>3226.328</td>\n",
       "    </tr>\n",
       "    <tr>\n",
       "      <th>1109</th>\n",
       "      <td>20200302</td>\n",
       "      <td>01001_AM</td>\n",
       "      <td>0820505</td>\n",
       "      <td>otros</td>\n",
       "      <td>otros</td>\n",
       "      <td>28</td>\n",
       "      <td>NaN</td>\n",
       "      <td>6</td>\n",
       "      <td>100+</td>\n",
       "      <td>4.729</td>\n",
       "      <td>1925.504</td>\n",
       "    </tr>\n",
       "    <tr>\n",
       "      <th>1112</th>\n",
       "      <td>20200302</td>\n",
       "      <td>01001_AM</td>\n",
       "      <td>09056</td>\n",
       "      <td>otros</td>\n",
       "      <td>otros</td>\n",
       "      <td>40</td>\n",
       "      <td>NaN</td>\n",
       "      <td>10</td>\n",
       "      <td>100+</td>\n",
       "      <td>2.321</td>\n",
       "      <td>236.609</td>\n",
       "    </tr>\n",
       "  </tbody>\n",
       "</table>\n",
       "</div>"
      ],
      "text/plain": [
       "         fecha    origen   destino actividad_origen actividad_destino  \\\n",
       "1106  20200302  01001_AM  06060_AM            otros             otros   \n",
       "1107  20200302  01001_AM  06095_AM            otros             otros   \n",
       "1108  20200302  01001_AM     06153            otros             otros   \n",
       "1109  20200302  01001_AM   0820505            otros             otros   \n",
       "1112  20200302  01001_AM     09056            otros             otros   \n",
       "\n",
       "      residencia  edad  periodo distancia  viajes  viajes_km  \n",
       "1106          21   NaN        1      100+   8.720   4681.820  \n",
       "1107           8   NaN        7      100+   4.406   2711.512  \n",
       "1108           3   NaN        0      100+   6.192   3226.328  \n",
       "1109          28   NaN        6      100+   4.729   1925.504  \n",
       "1112          40   NaN       10      100+   2.321    236.609  "
      ]
     },
     "execution_count": 21,
     "metadata": {},
     "output_type": "execute_result"
    }
   ],
   "source": [
    "flow1.head()"
   ]
  },
  {
   "cell_type": "code",
   "execution_count": 25,
   "id": "54dc4e82",
   "metadata": {},
   "outputs": [
    {
     "data": {
      "text/plain": [
       "fecha\n",
       "20200302    72387\n",
       "Name: viajes, dtype: int64"
      ]
     },
     "execution_count": 25,
     "metadata": {},
     "output_type": "execute_result"
    }
   ],
   "source": [
    "flow1.groupby('fecha')['viajes'].count()"
   ]
  }
 ],
 "metadata": {
  "kernelspec": {
   "display_name": "Python 3 (ipykernel)",
   "language": "python",
   "name": "python3"
  },
  "language_info": {
   "codemirror_mode": {
    "name": "ipython",
    "version": 3
   },
   "file_extension": ".py",
   "mimetype": "text/x-python",
   "name": "python",
   "nbconvert_exporter": "python",
   "pygments_lexer": "ipython3",
   "version": "3.8.10"
  }
 },
 "nbformat": 4,
 "nbformat_minor": 5
}
