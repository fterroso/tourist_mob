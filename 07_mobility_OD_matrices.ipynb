{
 "cells": [
  {
   "cell_type": "code",
   "execution_count": null,
   "id": "68571955",
   "metadata": {},
   "outputs": [],
   "source": [
    "def generate_daily_time_series_fn(from_date, to_date, trips_type='all'):\n",
    "     \n",
    "    time_series = []\n",
    "    target_days = generate_days_fn(from_date, to_date)\n",
    "    for date in tqdm_notebook(target_days):\n",
    "        df = read_INE_trips_date_fn(date, trips_type)\n",
    "        df= df.drop(columns=['edad', 'viajes_km','residencia','periodo'])\n",
    "        group_by_df= df.groupby(['fecha','origen']).sum('viajes')\n",
    "        group_by_df= group_by_df.reset_index()\n",
    "        total_trips_final = group_by_df.pivot_table(values='viajes',index='origen',columns='fecha')\n",
    "        time_series.append(total_trips_final)\n",
    "    return pd.concat(time_series, axis=1)"
   ]
  },
  {
   "cell_type": "code",
   "execution_count": null,
   "id": "f9953151",
   "metadata": {},
   "outputs": [],
   "source": [
    "def generate_hourly_time_series_fn(from_date, to_date, trips_type='all'):\n",
    "     \n",
    "    time_series = []\n",
    "    target_days = generate_days_fn(from_date, to_date)\n",
    "    for date in tqdm_notebook(target_days):\n",
    "        df = read_INE_trips_date_fn(date, trips_type)\n",
    "        df= df.drop(columns=['edad', 'viajes_km','residencia'])\n",
    "        group_by_df= df.groupby(['fecha','origen','periodo']).sum('viajes')\n",
    "        group_by_df= group_by_df.reset_index()\n",
    "        group_by_df['fecha_periodo'] = group_by_df['fecha']+'_'+ group_by_df['periodo'].astype(str)\n",
    "        group_by_df= group_by_df.drop(columns='fecha periodo'.split())\n",
    "        total_trips_final = group_by_df.pivot_table(values='viajes',index='origen',columns='fecha_periodo')\n",
    "        time_series.append(total_trips_final)\n",
    "    return pd.concat(time_series, axis=1)"
   ]
  },
  {
   "cell_type": "code",
   "execution_count": null,
   "id": "b926e35e",
   "metadata": {},
   "outputs": [],
   "source": [
    "def generate_OD_matrix_from_date_fn(date_):\n",
    "    df = read_INE_trips_date_fn(date_)\n",
    "    od= pd.pivot_table(df, columns='destino', index='origen', values='viajes', aggfunc=np.sum)\n",
    "    od = od.fillna(0.0)\n",
    "    od['total'] = od.sum(axis=1)\n",
    "    od.loc['total']= od.sum(axis=0)\n",
    "    return od"
   ]
  }
 ],
 "metadata": {
  "kernelspec": {
   "display_name": "Python 3",
   "language": "python",
   "name": "python3"
  },
  "language_info": {
   "codemirror_mode": {
    "name": "ipython",
    "version": 3
   },
   "file_extension": ".py",
   "mimetype": "text/x-python",
   "name": "python",
   "nbconvert_exporter": "python",
   "pygments_lexer": "ipython3",
   "version": "3.9.6"
  }
 },
 "nbformat": 4,
 "nbformat_minor": 5
}
